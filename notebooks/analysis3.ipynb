{
 "cells": [
  {
   "cell_type": "markdown",
   "metadata": {
    "tags": []
   },
   "source": [
    "# Komal Rehill"
   ]
  },
  {
   "cell_type": "markdown",
   "metadata": {
    "tags": []
   },
   "source": [
    "## Research Question\n",
    "\n",
    "Is there a correlation betweeen cyanobacterial hepatotoxins concentrations and total phosphorous concentration in European lakes?"
   ]
  },
  {
   "cell_type": "code",
   "execution_count": 2,
   "metadata": {},
   "outputs": [],
   "source": [
    "import numpy as np\n",
    "import pandas as pd"
   ]
  },
  {
   "cell_type": "code",
   "execution_count": 3,
   "metadata": {},
   "outputs": [],
   "source": [
    "lakedata = pd.read_csv(\"../data/raw/EMLSdata_10Aug.csv\")"
   ]
  },
  {
   "cell_type": "markdown",
   "metadata": {},
   "source": [
    "# Milestone 3"
   ]
  },
  {
   "cell_type": "markdown",
   "metadata": {},
   "source": [
    "## Task 1\n",
    "### EDA of Data"
   ]
  },
  {
   "cell_type": "code",
   "execution_count": 4,
   "metadata": {},
   "outputs": [
    {
     "name": "stdout",
     "output_type": "stream",
     "text": [
      "<class 'pandas.core.frame.DataFrame'>\n",
      "RangeIndex: 369 entries, 0 to 368\n",
      "Data columns (total 43 columns):\n",
      " #   Column                    Non-Null Count  Dtype  \n",
      "---  ------                    --------------  -----  \n",
      " 0   Lake_ID                   369 non-null    object \n",
      " 1   Date                      369 non-null    object \n",
      " 2   LakeName                  369 non-null    object \n",
      " 3   LabName                   369 non-null    object \n",
      " 4   Country                   369 non-null    object \n",
      " 5   Latitude                  369 non-null    float64\n",
      " 6   Longitude                 369 non-null    float64\n",
      " 7   Altitude_m                323 non-null    float64\n",
      " 8   MaximumDepth_m            334 non-null    float64\n",
      " 9   MeanDepth_m               239 non-null    float64\n",
      " 10  SecchiDepth_m             367 non-null    float64\n",
      " 11  SamplingDepth_m           369 non-null    float64\n",
      " 12  ThermoclineDepth_m        251 non-null    float64\n",
      " 13  SurfaceTemperature_C      364 non-null    float64\n",
      " 14  EpilimneticTemperature_C  366 non-null    float64\n",
      " 15  TP_mgL                    297 non-null    float64\n",
      " 16  TN_mgL                    317 non-null    float64\n",
      " 17  NO3NO2_mgL                238 non-null    float64\n",
      " 18  NH3_mgL                   282 non-null    float64\n",
      " 19  PO4_ugL                   256 non-null    float64\n",
      " 20  Chlorophylla_ugL          345 non-null    float64\n",
      " 21  Chlorophyllb_ugL          345 non-null    float64\n",
      " 22  Zeaxanthin_ugL            345 non-null    float64\n",
      " 23  Diadinoxanthin_ugL        345 non-null    float64\n",
      " 24  Fucoxanthin_ugL           350 non-null    float64\n",
      " 25  Diatoxanthin_ugL          350 non-null    float64\n",
      " 26  Alloxanthin_ugL           350 non-null    float64\n",
      " 27  Peridinin_ugL             350 non-null    float64\n",
      " 28  Chlorophyllc2_ugL         350 non-null    float64\n",
      " 29  Echinenone_ugL            350 non-null    float64\n",
      " 30  Lutein_ugL                350 non-null    float64\n",
      " 31  Violaxanthin_ugL          350 non-null    float64\n",
      " 32  MC_YR_ugL                 352 non-null    float64\n",
      " 33  MC_dmRR_ugL               352 non-null    float64\n",
      " 34  MC_RR_ugL                 352 non-null    float64\n",
      " 35  MC_dmLR_ugL               352 non-null    float64\n",
      " 36  MC_LR_ugL                 352 non-null    float64\n",
      " 37  MC_LY_ugL                 351 non-null    float64\n",
      " 38  MC_LW_ugL                 352 non-null    float64\n",
      " 39  MC_LF_ugL                 350 non-null    float64\n",
      " 40  NOD_ugL                   352 non-null    float64\n",
      " 41  CYN_ugL                   343 non-null    float64\n",
      " 42  ATX_ugL                   346 non-null    float64\n",
      "dtypes: float64(38), object(5)\n",
      "memory usage: 124.1+ KB\n"
     ]
    },
    {
     "data": {
      "text/html": [
       "<div>\n",
       "<style scoped>\n",
       "    .dataframe tbody tr th:only-of-type {\n",
       "        vertical-align: middle;\n",
       "    }\n",
       "\n",
       "    .dataframe tbody tr th {\n",
       "        vertical-align: top;\n",
       "    }\n",
       "\n",
       "    .dataframe thead th {\n",
       "        text-align: right;\n",
       "    }\n",
       "</style>\n",
       "<table border=\"1\" class=\"dataframe\">\n",
       "  <thead>\n",
       "    <tr style=\"text-align: right;\">\n",
       "      <th></th>\n",
       "      <th>Lake_ID</th>\n",
       "      <th>Date</th>\n",
       "      <th>LakeName</th>\n",
       "      <th>LabName</th>\n",
       "      <th>Country</th>\n",
       "      <th>Latitude</th>\n",
       "      <th>Longitude</th>\n",
       "      <th>Altitude_m</th>\n",
       "      <th>MaximumDepth_m</th>\n",
       "      <th>MeanDepth_m</th>\n",
       "      <th>...</th>\n",
       "      <th>MC_dmRR_ugL</th>\n",
       "      <th>MC_RR_ugL</th>\n",
       "      <th>MC_dmLR_ugL</th>\n",
       "      <th>MC_LR_ugL</th>\n",
       "      <th>MC_LY_ugL</th>\n",
       "      <th>MC_LW_ugL</th>\n",
       "      <th>MC_LF_ugL</th>\n",
       "      <th>NOD_ugL</th>\n",
       "      <th>CYN_ugL</th>\n",
       "      <th>ATX_ugL</th>\n",
       "    </tr>\n",
       "  </thead>\n",
       "  <tbody>\n",
       "    <tr>\n",
       "      <th>0</th>\n",
       "      <td>AT_MON</td>\n",
       "      <td>2015-08-03</td>\n",
       "      <td>Mondsee</td>\n",
       "      <td>WEISSE</td>\n",
       "      <td>Austria</td>\n",
       "      <td>47.803028</td>\n",
       "      <td>13.420194</td>\n",
       "      <td>481.0</td>\n",
       "      <td>68.0</td>\n",
       "      <td>36.0</td>\n",
       "      <td>...</td>\n",
       "      <td>0.0</td>\n",
       "      <td>0.0</td>\n",
       "      <td>0.0000</td>\n",
       "      <td>0.0000</td>\n",
       "      <td>0.0</td>\n",
       "      <td>0.0</td>\n",
       "      <td>0.0</td>\n",
       "      <td>0.0</td>\n",
       "      <td>0.0</td>\n",
       "      <td>0.0</td>\n",
       "    </tr>\n",
       "    <tr>\n",
       "      <th>1</th>\n",
       "      <td>CH_BRE</td>\n",
       "      <td>2015-08-12</td>\n",
       "      <td>Brenet</td>\n",
       "      <td>FOREL</td>\n",
       "      <td>Switzerland</td>\n",
       "      <td>46.673750</td>\n",
       "      <td>6.322253</td>\n",
       "      <td>1002.0</td>\n",
       "      <td>18.0</td>\n",
       "      <td>NaN</td>\n",
       "      <td>...</td>\n",
       "      <td>0.0</td>\n",
       "      <td>0.0</td>\n",
       "      <td>0.0011</td>\n",
       "      <td>0.0000</td>\n",
       "      <td>0.0</td>\n",
       "      <td>0.0</td>\n",
       "      <td>0.0</td>\n",
       "      <td>0.0</td>\n",
       "      <td>0.0</td>\n",
       "      <td>0.0</td>\n",
       "    </tr>\n",
       "    <tr>\n",
       "      <th>2</th>\n",
       "      <td>CH_BRET</td>\n",
       "      <td>2015-08-25</td>\n",
       "      <td>Bret</td>\n",
       "      <td>FOREL</td>\n",
       "      <td>Switzerland</td>\n",
       "      <td>46.514161</td>\n",
       "      <td>6.773583</td>\n",
       "      <td>674.0</td>\n",
       "      <td>13.0</td>\n",
       "      <td>NaN</td>\n",
       "      <td>...</td>\n",
       "      <td>0.0</td>\n",
       "      <td>0.0</td>\n",
       "      <td>0.0027</td>\n",
       "      <td>0.0042</td>\n",
       "      <td>0.0</td>\n",
       "      <td>0.0</td>\n",
       "      <td>0.0</td>\n",
       "      <td>0.0</td>\n",
       "      <td>0.0</td>\n",
       "      <td>0.0</td>\n",
       "    </tr>\n",
       "    <tr>\n",
       "      <th>3</th>\n",
       "      <td>CH_DIV</td>\n",
       "      <td>2015-08-14</td>\n",
       "      <td>Divonne</td>\n",
       "      <td>FOREL</td>\n",
       "      <td>Switzerland</td>\n",
       "      <td>46.354617</td>\n",
       "      <td>6.152489</td>\n",
       "      <td>466.0</td>\n",
       "      <td>4.0</td>\n",
       "      <td>NaN</td>\n",
       "      <td>...</td>\n",
       "      <td>0.0</td>\n",
       "      <td>0.0</td>\n",
       "      <td>0.0017</td>\n",
       "      <td>0.0187</td>\n",
       "      <td>0.0</td>\n",
       "      <td>0.0</td>\n",
       "      <td>0.0</td>\n",
       "      <td>0.0</td>\n",
       "      <td>0.0</td>\n",
       "      <td>0.0</td>\n",
       "    </tr>\n",
       "    <tr>\n",
       "      <th>4</th>\n",
       "      <td>CH_GE3</td>\n",
       "      <td>2015-08-10</td>\n",
       "      <td>Geneva_GE3</td>\n",
       "      <td>FOREL</td>\n",
       "      <td>Switzerland</td>\n",
       "      <td>46.292003</td>\n",
       "      <td>6.213036</td>\n",
       "      <td>372.0</td>\n",
       "      <td>310.0</td>\n",
       "      <td>154.4</td>\n",
       "      <td>...</td>\n",
       "      <td>0.0</td>\n",
       "      <td>0.0</td>\n",
       "      <td>0.0000</td>\n",
       "      <td>0.0000</td>\n",
       "      <td>0.0</td>\n",
       "      <td>0.0</td>\n",
       "      <td>0.0</td>\n",
       "      <td>0.0</td>\n",
       "      <td>0.0</td>\n",
       "      <td>0.0</td>\n",
       "    </tr>\n",
       "  </tbody>\n",
       "</table>\n",
       "<p>5 rows × 43 columns</p>\n",
       "</div>"
      ],
      "text/plain": [
       "   Lake_ID        Date    LakeName LabName      Country   Latitude  Longitude  \\\n",
       "0   AT_MON  2015-08-03     Mondsee  WEISSE      Austria  47.803028  13.420194   \n",
       "1   CH_BRE  2015-08-12      Brenet   FOREL  Switzerland  46.673750   6.322253   \n",
       "2  CH_BRET  2015-08-25        Bret   FOREL  Switzerland  46.514161   6.773583   \n",
       "3   CH_DIV  2015-08-14     Divonne   FOREL  Switzerland  46.354617   6.152489   \n",
       "4   CH_GE3  2015-08-10  Geneva_GE3   FOREL  Switzerland  46.292003   6.213036   \n",
       "\n",
       "   Altitude_m  MaximumDepth_m  MeanDepth_m  ...  MC_dmRR_ugL  MC_RR_ugL  \\\n",
       "0       481.0            68.0         36.0  ...          0.0        0.0   \n",
       "1      1002.0            18.0          NaN  ...          0.0        0.0   \n",
       "2       674.0            13.0          NaN  ...          0.0        0.0   \n",
       "3       466.0             4.0          NaN  ...          0.0        0.0   \n",
       "4       372.0           310.0        154.4  ...          0.0        0.0   \n",
       "\n",
       "   MC_dmLR_ugL  MC_LR_ugL  MC_LY_ugL  MC_LW_ugL  MC_LF_ugL  NOD_ugL  CYN_ugL  \\\n",
       "0       0.0000     0.0000        0.0        0.0        0.0      0.0      0.0   \n",
       "1       0.0011     0.0000        0.0        0.0        0.0      0.0      0.0   \n",
       "2       0.0027     0.0042        0.0        0.0        0.0      0.0      0.0   \n",
       "3       0.0017     0.0187        0.0        0.0        0.0      0.0      0.0   \n",
       "4       0.0000     0.0000        0.0        0.0        0.0      0.0      0.0   \n",
       "\n",
       "   ATX_ugL  \n",
       "0      0.0  \n",
       "1      0.0  \n",
       "2      0.0  \n",
       "3      0.0  \n",
       "4      0.0  \n",
       "\n",
       "[5 rows x 43 columns]"
      ]
     },
     "execution_count": 4,
     "metadata": {},
     "output_type": "execute_result"
    }
   ],
   "source": [
    "import matplotlib\n",
    "import matplotlib.pyplot as plt\n",
    "import seaborn as sns\n",
    "lakedata.info()\n",
    "lakedata.head()"
   ]
  },
  {
   "cell_type": "markdown",
   "metadata": {},
   "source": [
    "#### Interesting to note: There are 5 object datatypes and 39 float64 datatypes."
   ]
  },
  {
   "cell_type": "code",
   "execution_count": 5,
   "metadata": {},
   "outputs": [
    {
     "name": "stdout",
     "output_type": "stream",
     "text": [
      "Number of rows and columns (369, 43)\n",
      "Column Names: Index(['Lake_ID', 'Date', 'LakeName', 'LabName', 'Country', 'Latitude',\n",
      "       'Longitude', 'Altitude_m', 'MaximumDepth_m', 'MeanDepth_m',\n",
      "       'SecchiDepth_m', 'SamplingDepth_m', 'ThermoclineDepth_m',\n",
      "       'SurfaceTemperature_C', 'EpilimneticTemperature_C', 'TP_mgL', 'TN_mgL',\n",
      "       'NO3NO2_mgL', 'NH3_mgL', 'PO4_ugL', 'Chlorophylla_ugL',\n",
      "       'Chlorophyllb_ugL', 'Zeaxanthin_ugL', 'Diadinoxanthin_ugL',\n",
      "       'Fucoxanthin_ugL', 'Diatoxanthin_ugL', 'Alloxanthin_ugL',\n",
      "       'Peridinin_ugL', 'Chlorophyllc2_ugL', 'Echinenone_ugL', 'Lutein_ugL',\n",
      "       'Violaxanthin_ugL', 'MC_YR_ugL', 'MC_dmRR_ugL', 'MC_RR_ugL',\n",
      "       'MC_dmLR_ugL', 'MC_LR_ugL', 'MC_LY_ugL', 'MC_LW_ugL', 'MC_LF_ugL',\n",
      "       'NOD_ugL', 'CYN_ugL', 'ATX_ugL'],\n",
      "      dtype='object')\n"
     ]
    }
   ],
   "source": [
    "rc=lakedata.shape\n",
    "cn=lakedata.columns\n",
    "print(f\"Number of rows and columns {rc}\")\n",
    "print(f\"Column Names: {cn}\")"
   ]
  },
  {
   "cell_type": "code",
   "execution_count": 6,
   "metadata": {},
   "outputs": [
    {
     "name": "stdout",
     "output_type": "stream",
     "text": [
      "Number of unique values for each variable:\n",
      "Lake_ID                     369\n",
      "Date                         69\n",
      "LakeName                    368\n",
      "LabName                      69\n",
      "Country                      27\n",
      "Latitude                    369\n",
      "Longitude                   369\n",
      "Altitude_m                  202\n",
      "MaximumDepth_m               74\n",
      "MeanDepth_m                 123\n",
      "SecchiDepth_m               141\n",
      "SamplingDepth_m              71\n",
      "ThermoclineDepth_m          218\n",
      "SurfaceTemperature_C        277\n",
      "EpilimneticTemperature_C    313\n",
      "TP_mgL                       42\n",
      "TN_mgL                       41\n",
      "NO3NO2_mgL                  139\n",
      "NH3_mgL                      45\n",
      "PO4_ugL                     255\n",
      "Chlorophylla_ugL            342\n",
      "Chlorophyllb_ugL            246\n",
      "Zeaxanthin_ugL              241\n",
      "Diadinoxanthin_ugL           69\n",
      "Fucoxanthin_ugL             116\n",
      "Diatoxanthin_ugL              5\n",
      "Alloxanthin_ugL             147\n",
      "Peridinin_ugL                69\n",
      "Chlorophyllc2_ugL           174\n",
      "Echinenone_ugL                6\n",
      "Lutein_ugL                    2\n",
      "Violaxanthin_ugL             46\n",
      "MC_YR_ugL                    74\n",
      "MC_dmRR_ugL                  82\n",
      "MC_RR_ugL                   104\n",
      "MC_dmLR_ugL                 128\n",
      "MC_LR_ugL                   138\n",
      "MC_LY_ugL                     3\n",
      "MC_LW_ugL                     3\n",
      "MC_LF_ugL                     1\n",
      "NOD_ugL                       3\n",
      "CYN_ugL                      76\n",
      "ATX_ugL                      74\n",
      "dtype: int64\n"
     ]
    }
   ],
   "source": [
    "print(\"Number of unique values for each variable:\")\n",
    "print(f\"{lakedata.nunique(axis=0)}\")"
   ]
  },
  {
   "cell_type": "code",
   "execution_count": 7,
   "metadata": {},
   "outputs": [
    {
     "data": {
      "text/html": [
       "<div>\n",
       "<style scoped>\n",
       "    .dataframe tbody tr th:only-of-type {\n",
       "        vertical-align: middle;\n",
       "    }\n",
       "\n",
       "    .dataframe tbody tr th {\n",
       "        vertical-align: top;\n",
       "    }\n",
       "\n",
       "    .dataframe thead th {\n",
       "        text-align: right;\n",
       "    }\n",
       "</style>\n",
       "<table border=\"1\" class=\"dataframe\">\n",
       "  <thead>\n",
       "    <tr style=\"text-align: right;\">\n",
       "      <th></th>\n",
       "      <th>Latitude</th>\n",
       "      <th>Longitude</th>\n",
       "      <th>Altitude_m</th>\n",
       "      <th>MaximumDepth_m</th>\n",
       "      <th>MeanDepth_m</th>\n",
       "      <th>SecchiDepth_m</th>\n",
       "      <th>SamplingDepth_m</th>\n",
       "      <th>ThermoclineDepth_m</th>\n",
       "      <th>SurfaceTemperature_C</th>\n",
       "      <th>EpilimneticTemperature_C</th>\n",
       "      <th>...</th>\n",
       "      <th>MC_dmRR_ugL</th>\n",
       "      <th>MC_RR_ugL</th>\n",
       "      <th>MC_dmLR_ugL</th>\n",
       "      <th>MC_LR_ugL</th>\n",
       "      <th>MC_LY_ugL</th>\n",
       "      <th>MC_LW_ugL</th>\n",
       "      <th>MC_LF_ugL</th>\n",
       "      <th>NOD_ugL</th>\n",
       "      <th>CYN_ugL</th>\n",
       "      <th>ATX_ugL</th>\n",
       "    </tr>\n",
       "  </thead>\n",
       "  <tbody>\n",
       "    <tr>\n",
       "      <th>count</th>\n",
       "      <td>369.0</td>\n",
       "      <td>369.0</td>\n",
       "      <td>323.0</td>\n",
       "      <td>334.0</td>\n",
       "      <td>239.0</td>\n",
       "      <td>367.0</td>\n",
       "      <td>369.0</td>\n",
       "      <td>251.0</td>\n",
       "      <td>364.0</td>\n",
       "      <td>366.0</td>\n",
       "      <td>...</td>\n",
       "      <td>352.0</td>\n",
       "      <td>352.0</td>\n",
       "      <td>352.0</td>\n",
       "      <td>352.0</td>\n",
       "      <td>351.0</td>\n",
       "      <td>352.0</td>\n",
       "      <td>350.0</td>\n",
       "      <td>352.0</td>\n",
       "      <td>343.0</td>\n",
       "      <td>346.0</td>\n",
       "    </tr>\n",
       "    <tr>\n",
       "      <th>mean</th>\n",
       "      <td>48.6</td>\n",
       "      <td>15.6</td>\n",
       "      <td>255.0</td>\n",
       "      <td>25.3</td>\n",
       "      <td>11.6</td>\n",
       "      <td>2.0</td>\n",
       "      <td>7.1</td>\n",
       "      <td>7.0</td>\n",
       "      <td>22.8</td>\n",
       "      <td>21.0</td>\n",
       "      <td>...</td>\n",
       "      <td>0.3</td>\n",
       "      <td>0.1</td>\n",
       "      <td>0.1</td>\n",
       "      <td>0.1</td>\n",
       "      <td>0.0</td>\n",
       "      <td>0.0</td>\n",
       "      <td>0.0</td>\n",
       "      <td>0.0</td>\n",
       "      <td>0.0</td>\n",
       "      <td>0.0</td>\n",
       "    </tr>\n",
       "    <tr>\n",
       "      <th>std</th>\n",
       "      <td>7.1</td>\n",
       "      <td>12.5</td>\n",
       "      <td>372.3</td>\n",
       "      <td>46.2</td>\n",
       "      <td>23.7</td>\n",
       "      <td>1.9</td>\n",
       "      <td>5.8</td>\n",
       "      <td>5.6</td>\n",
       "      <td>3.7</td>\n",
       "      <td>3.9</td>\n",
       "      <td>...</td>\n",
       "      <td>1.4</td>\n",
       "      <td>0.3</td>\n",
       "      <td>0.4</td>\n",
       "      <td>0.4</td>\n",
       "      <td>0.0</td>\n",
       "      <td>0.0</td>\n",
       "      <td>0.0</td>\n",
       "      <td>0.0</td>\n",
       "      <td>0.1</td>\n",
       "      <td>0.2</td>\n",
       "    </tr>\n",
       "    <tr>\n",
       "      <th>min</th>\n",
       "      <td>34.7</td>\n",
       "      <td>-25.8</td>\n",
       "      <td>-1.0</td>\n",
       "      <td>1.0</td>\n",
       "      <td>0.5</td>\n",
       "      <td>0.1</td>\n",
       "      <td>0.1</td>\n",
       "      <td>0.2</td>\n",
       "      <td>9.1</td>\n",
       "      <td>8.7</td>\n",
       "      <td>...</td>\n",
       "      <td>0.0</td>\n",
       "      <td>0.0</td>\n",
       "      <td>0.0</td>\n",
       "      <td>0.0</td>\n",
       "      <td>0.0</td>\n",
       "      <td>0.0</td>\n",
       "      <td>0.0</td>\n",
       "      <td>0.0</td>\n",
       "      <td>0.0</td>\n",
       "      <td>0.0</td>\n",
       "    </tr>\n",
       "    <tr>\n",
       "      <th>25%</th>\n",
       "      <td>41.6</td>\n",
       "      <td>8.8</td>\n",
       "      <td>37.0</td>\n",
       "      <td>5.0</td>\n",
       "      <td>2.5</td>\n",
       "      <td>0.6</td>\n",
       "      <td>3.0</td>\n",
       "      <td>2.6</td>\n",
       "      <td>20.2</td>\n",
       "      <td>18.6</td>\n",
       "      <td>...</td>\n",
       "      <td>0.0</td>\n",
       "      <td>0.0</td>\n",
       "      <td>0.0</td>\n",
       "      <td>0.0</td>\n",
       "      <td>0.0</td>\n",
       "      <td>0.0</td>\n",
       "      <td>0.0</td>\n",
       "      <td>0.0</td>\n",
       "      <td>0.0</td>\n",
       "      <td>0.0</td>\n",
       "    </tr>\n",
       "    <tr>\n",
       "      <th>50%</th>\n",
       "      <td>51.3</td>\n",
       "      <td>16.5</td>\n",
       "      <td>102.0</td>\n",
       "      <td>11.0</td>\n",
       "      <td>5.0</td>\n",
       "      <td>1.2</td>\n",
       "      <td>5.5</td>\n",
       "      <td>6.3</td>\n",
       "      <td>22.2</td>\n",
       "      <td>20.6</td>\n",
       "      <td>...</td>\n",
       "      <td>0.0</td>\n",
       "      <td>0.0</td>\n",
       "      <td>0.0</td>\n",
       "      <td>0.0</td>\n",
       "      <td>0.0</td>\n",
       "      <td>0.0</td>\n",
       "      <td>0.0</td>\n",
       "      <td>0.0</td>\n",
       "      <td>0.0</td>\n",
       "      <td>0.0</td>\n",
       "    </tr>\n",
       "    <tr>\n",
       "      <th>75%</th>\n",
       "      <td>53.8</td>\n",
       "      <td>23.2</td>\n",
       "      <td>325.0</td>\n",
       "      <td>28.0</td>\n",
       "      <td>10.1</td>\n",
       "      <td>2.7</td>\n",
       "      <td>10.0</td>\n",
       "      <td>9.3</td>\n",
       "      <td>25.1</td>\n",
       "      <td>23.6</td>\n",
       "      <td>...</td>\n",
       "      <td>0.0</td>\n",
       "      <td>0.0</td>\n",
       "      <td>0.0</td>\n",
       "      <td>0.0</td>\n",
       "      <td>0.0</td>\n",
       "      <td>0.0</td>\n",
       "      <td>0.0</td>\n",
       "      <td>0.0</td>\n",
       "      <td>0.0</td>\n",
       "      <td>0.0</td>\n",
       "    </tr>\n",
       "    <tr>\n",
       "      <th>max</th>\n",
       "      <td>62.3</td>\n",
       "      <td>41.6</td>\n",
       "      <td>2886.0</td>\n",
       "      <td>350.0</td>\n",
       "      <td>155.0</td>\n",
       "      <td>11.4</td>\n",
       "      <td>39.0</td>\n",
       "      <td>37.5</td>\n",
       "      <td>34.0</td>\n",
       "      <td>34.0</td>\n",
       "      <td>...</td>\n",
       "      <td>14.9</td>\n",
       "      <td>3.3</td>\n",
       "      <td>4.0</td>\n",
       "      <td>4.0</td>\n",
       "      <td>0.0</td>\n",
       "      <td>0.4</td>\n",
       "      <td>0.0</td>\n",
       "      <td>0.0</td>\n",
       "      <td>2.0</td>\n",
       "      <td>2.7</td>\n",
       "    </tr>\n",
       "  </tbody>\n",
       "</table>\n",
       "<p>8 rows × 38 columns</p>\n",
       "</div>"
      ],
      "text/plain": [
       "      Latitude Longitude Altitude_m MaximumDepth_m MeanDepth_m SecchiDepth_m  \\\n",
       "count    369.0     369.0      323.0          334.0       239.0         367.0   \n",
       "mean      48.6      15.6      255.0           25.3        11.6           2.0   \n",
       "std        7.1      12.5      372.3           46.2        23.7           1.9   \n",
       "min       34.7     -25.8       -1.0            1.0         0.5           0.1   \n",
       "25%       41.6       8.8       37.0            5.0         2.5           0.6   \n",
       "50%       51.3      16.5      102.0           11.0         5.0           1.2   \n",
       "75%       53.8      23.2      325.0           28.0        10.1           2.7   \n",
       "max       62.3      41.6     2886.0          350.0       155.0          11.4   \n",
       "\n",
       "      SamplingDepth_m ThermoclineDepth_m SurfaceTemperature_C  \\\n",
       "count           369.0              251.0                364.0   \n",
       "mean              7.1                7.0                 22.8   \n",
       "std               5.8                5.6                  3.7   \n",
       "min               0.1                0.2                  9.1   \n",
       "25%               3.0                2.6                 20.2   \n",
       "50%               5.5                6.3                 22.2   \n",
       "75%              10.0                9.3                 25.1   \n",
       "max              39.0               37.5                 34.0   \n",
       "\n",
       "      EpilimneticTemperature_C  ... MC_dmRR_ugL MC_RR_ugL MC_dmLR_ugL  \\\n",
       "count                    366.0  ...       352.0     352.0       352.0   \n",
       "mean                      21.0  ...         0.3       0.1         0.1   \n",
       "std                        3.9  ...         1.4       0.3         0.4   \n",
       "min                        8.7  ...         0.0       0.0         0.0   \n",
       "25%                       18.6  ...         0.0       0.0         0.0   \n",
       "50%                       20.6  ...         0.0       0.0         0.0   \n",
       "75%                       23.6  ...         0.0       0.0         0.0   \n",
       "max                       34.0  ...        14.9       3.3         4.0   \n",
       "\n",
       "      MC_LR_ugL MC_LY_ugL MC_LW_ugL MC_LF_ugL NOD_ugL CYN_ugL ATX_ugL  \n",
       "count     352.0     351.0     352.0     350.0   352.0   343.0   346.0  \n",
       "mean        0.1       0.0       0.0       0.0     0.0     0.0     0.0  \n",
       "std         0.4       0.0       0.0       0.0     0.0     0.1     0.2  \n",
       "min         0.0       0.0       0.0       0.0     0.0     0.0     0.0  \n",
       "25%         0.0       0.0       0.0       0.0     0.0     0.0     0.0  \n",
       "50%         0.0       0.0       0.0       0.0     0.0     0.0     0.0  \n",
       "75%         0.0       0.0       0.0       0.0     0.0     0.0     0.0  \n",
       "max         4.0       0.0       0.4       0.0     0.0     2.0     2.7  \n",
       "\n",
       "[8 rows x 38 columns]"
      ]
     },
     "execution_count": 7,
     "metadata": {},
     "output_type": "execute_result"
    }
   ],
   "source": [
    "lakedata.describe().apply(lambda s: s.apply('{0:.1f}'.format))\n",
    "#not sure if relevant due to differing lake depths of data, thus the mean of each column is not helpful. Still good to look over though."
   ]
  },
  {
   "cell_type": "code",
   "execution_count": 8,
   "metadata": {},
   "outputs": [
    {
     "data": {
      "text/html": [
       "<div>\n",
       "<style scoped>\n",
       "    .dataframe tbody tr th:only-of-type {\n",
       "        vertical-align: middle;\n",
       "    }\n",
       "\n",
       "    .dataframe tbody tr th {\n",
       "        vertical-align: top;\n",
       "    }\n",
       "\n",
       "    .dataframe thead th {\n",
       "        text-align: right;\n",
       "    }\n",
       "</style>\n",
       "<table border=\"1\" class=\"dataframe\">\n",
       "  <thead>\n",
       "    <tr style=\"text-align: right;\">\n",
       "      <th></th>\n",
       "      <th>count</th>\n",
       "      <th>unique</th>\n",
       "      <th>top</th>\n",
       "      <th>freq</th>\n",
       "    </tr>\n",
       "  </thead>\n",
       "  <tbody>\n",
       "    <tr>\n",
       "      <th>Lake_ID</th>\n",
       "      <td>369</td>\n",
       "      <td>369</td>\n",
       "      <td>AT_MON</td>\n",
       "      <td>1</td>\n",
       "    </tr>\n",
       "    <tr>\n",
       "      <th>Date</th>\n",
       "      <td>369</td>\n",
       "      <td>69</td>\n",
       "      <td>2015-08-12</td>\n",
       "      <td>21</td>\n",
       "    </tr>\n",
       "    <tr>\n",
       "      <th>LakeName</th>\n",
       "      <td>369</td>\n",
       "      <td>368</td>\n",
       "      <td>Scharmutzelsee</td>\n",
       "      <td>2</td>\n",
       "    </tr>\n",
       "    <tr>\n",
       "      <th>LabName</th>\n",
       "      <td>369</td>\n",
       "      <td>69</td>\n",
       "      <td>IGB</td>\n",
       "      <td>31</td>\n",
       "    </tr>\n",
       "    <tr>\n",
       "      <th>Country</th>\n",
       "      <td>369</td>\n",
       "      <td>27</td>\n",
       "      <td>Poland</td>\n",
       "      <td>66</td>\n",
       "    </tr>\n",
       "  </tbody>\n",
       "</table>\n",
       "</div>"
      ],
      "text/plain": [
       "         count unique             top freq\n",
       "Lake_ID    369    369          AT_MON    1\n",
       "Date       369     69      2015-08-12   21\n",
       "LakeName   369    368  Scharmutzelsee    2\n",
       "LabName    369     69             IGB   31\n",
       "Country    369     27          Poland   66"
      ]
     },
     "execution_count": 8,
     "metadata": {},
     "output_type": "execute_result"
    }
   ],
   "source": [
    "lakedata.describe(include='object').T\n",
    "#Object datatype descriptions. \n",
    "#A lot of the data is collected from Poland."
   ]
  },
  {
   "cell_type": "code",
   "execution_count": 9,
   "metadata": {},
   "outputs": [
    {
     "data": {
      "text/plain": [
       "Lake_ID                       0\n",
       "Date                          0\n",
       "LakeName                      0\n",
       "LabName                       0\n",
       "Country                       0\n",
       "Latitude                      0\n",
       "Longitude                     0\n",
       "Altitude_m                   46\n",
       "MaximumDepth_m               35\n",
       "MeanDepth_m                 130\n",
       "SecchiDepth_m                 2\n",
       "SamplingDepth_m               0\n",
       "ThermoclineDepth_m          118\n",
       "SurfaceTemperature_C          5\n",
       "EpilimneticTemperature_C      3\n",
       "TP_mgL                       72\n",
       "TN_mgL                       52\n",
       "NO3NO2_mgL                  131\n",
       "NH3_mgL                      87\n",
       "PO4_ugL                     113\n",
       "Chlorophylla_ugL             24\n",
       "Chlorophyllb_ugL             24\n",
       "Zeaxanthin_ugL               24\n",
       "Diadinoxanthin_ugL           24\n",
       "Fucoxanthin_ugL              19\n",
       "Diatoxanthin_ugL             19\n",
       "Alloxanthin_ugL              19\n",
       "Peridinin_ugL                19\n",
       "Chlorophyllc2_ugL            19\n",
       "Echinenone_ugL               19\n",
       "Lutein_ugL                   19\n",
       "Violaxanthin_ugL             19\n",
       "MC_YR_ugL                    17\n",
       "MC_dmRR_ugL                  17\n",
       "MC_RR_ugL                    17\n",
       "MC_dmLR_ugL                  17\n",
       "MC_LR_ugL                    17\n",
       "MC_LY_ugL                    18\n",
       "MC_LW_ugL                    17\n",
       "MC_LF_ugL                    19\n",
       "NOD_ugL                      17\n",
       "CYN_ugL                      26\n",
       "ATX_ugL                      23\n",
       "dtype: int64"
      ]
     },
     "execution_count": 9,
     "metadata": {},
     "output_type": "execute_result"
    }
   ],
   "source": [
    "# view which column has how many rows of missing data\n",
    "lakedata.isnull().sum()"
   ]
  },
  {
   "cell_type": "markdown",
   "metadata": {},
   "source": [
    "## Task 2\n",
    "### Set up an analysis pipeline\n",
    "#### 1. Load Data"
   ]
  },
  {
   "cell_type": "code",
   "execution_count": 10,
   "metadata": {},
   "outputs": [],
   "source": [
    "#load unprocessed lakedata\n",
    "ldu = pd.read_csv(\"../data/raw/EMLSdata_10Aug.csv\")"
   ]
  },
  {
   "cell_type": "markdown",
   "metadata": {},
   "source": [
    "#### 2. Clean Data"
   ]
  },
  {
   "cell_type": "code",
   "execution_count": 11,
   "metadata": {},
   "outputs": [],
   "source": [
    "#remove columns not being used\n",
    "ldr=ldu.drop(labels=['MeanDepth_m','Lake_ID','MC_LY_ugL','MaximumDepth_m', 'TN_mgL','MC_LW_ugL','MC_LF_ugL','NOD_ugL','NO3NO2_mgL','PO4_ugL','NH3_mgL', 'Date','LabName','Latitude','ThermoclineDepth_m','SamplingDepth_m','Longitude','Altitude_m','SurfaceTemperature_C','EpilimneticTemperature_C','CYN_ugL','ATX_ugL','Lutein_ugL','Echinenone_ugL','Chlorophyllc2_ugL','Peridinin_ugL','Alloxanthin_ugL','Diadinoxanthin_ugL','Fucoxanthin_ugL','Zeaxanthin_ugL','Chlorophyllb_ugL','Diatoxanthin_ugL','Chlorophylla_ugL','SecchiDepth_m','Violaxanthin_ugL'], axis=1)"
   ]
  },
  {
   "cell_type": "code",
   "execution_count": 12,
   "metadata": {},
   "outputs": [],
   "source": [
    "#remove rows (lakes) with missing data\n",
    "ldr=ldr.dropna(axis=0)"
   ]
  },
  {
   "cell_type": "markdown",
   "metadata": {},
   "source": [
    "#### 3. Process Data"
   ]
  },
  {
   "cell_type": "code",
   "execution_count": 13,
   "metadata": {},
   "outputs": [],
   "source": [
    "#Find and replace operations \n",
    "#(examples inlcude replacing the string ‘Strongly Agree’ with the number 5).\n",
    "\n",
    "ldr=ldr.rename(columns=\n",
    "            {\"MeanDepth_m\": \"Mean Depth (m)\",\n",
    "            \"LakeName\": \"Lake Name\", \n",
    "            \"TP_mgL\": \"Concentration of total phosphorus (mgL)\",\n",
    "            \"MC_YR_ugL\": \"Concentration of cyanobacterial hepatotoxin microcystin YR (ugL)\", \n",
    "            \"MC_dmRR_ugL\": \"Concentration of cyanobacterial hepatotoxin microcystin dmRR (ugL)\", \n",
    "            \"MC_RR_ugL\": \"Concentration of cyanobacterial hepatotoxin microcystin RR (ugL)\", \n",
    "            \"MC_dmLR_ugL\": \"Concentration of cyanobacterial hepatotoxin microcystin dmLR (ugL)\", \n",
    "            \"MC_LR_ugL\": \"Concentration of cyanobacterial hepatotoxin microcystin LR (ugL)\", \n",
    "            \"MC_LW_ugL\": \"Concentration of cyanobacterial hepatotoxin microcystin LW (ugL)\", \n",
    "            \"MC_LF_ugL\": \"Concentration of cyanobacterial hepatotoxin microcystin LF (ugL)\", \n",
    "            \"NOD_ugL\": \"Concentration of cyanobacterial hepatotoxin nodularin (ugL)\"})"
   ]
  },
  {
   "cell_type": "markdown",
   "metadata": {},
   "source": [
    "#### 4. Wrangle Data"
   ]
  },
  {
   "cell_type": "code",
   "execution_count": 14,
   "metadata": {},
   "outputs": [],
   "source": [
    "#Restructure data format (columns and rows).\n",
    "ldr= ldr.sort_values(by=['Concentration of total phosphorus (mgL)'], ascending=True)"
   ]
  },
  {
   "cell_type": "markdown",
   "metadata": {},
   "source": [
    "## Task 3\n",
    "### Method chaining and writing python programs"
   ]
  },
  {
   "cell_type": "code",
   "execution_count": 15,
   "metadata": {},
   "outputs": [
    {
     "data": {
      "text/html": [
       "<div>\n",
       "<style scoped>\n",
       "    .dataframe tbody tr th:only-of-type {\n",
       "        vertical-align: middle;\n",
       "    }\n",
       "\n",
       "    .dataframe tbody tr th {\n",
       "        vertical-align: top;\n",
       "    }\n",
       "\n",
       "    .dataframe thead th {\n",
       "        text-align: right;\n",
       "    }\n",
       "</style>\n",
       "<table border=\"1\" class=\"dataframe\">\n",
       "  <thead>\n",
       "    <tr style=\"text-align: right;\">\n",
       "      <th></th>\n",
       "      <th>Lake Name</th>\n",
       "      <th>Country</th>\n",
       "      <th>Concentration of total phosphorus (mgL)</th>\n",
       "      <th>Concentration of cyanobacterial hepatotoxin microcystin YR (ugL)</th>\n",
       "      <th>Concentration of cyanobacterial hepatotoxin microcystin dmRR (ugL)</th>\n",
       "      <th>Concentration of cyanobacterial hepatotoxin microcystin RR (ugL)</th>\n",
       "      <th>Concentration of cyanobacterial hepatotoxin microcystin dmLR (ugL)</th>\n",
       "      <th>Concentration of cyanobacterial hepatotoxin microcystin LR (ugL)</th>\n",
       "    </tr>\n",
       "  </thead>\n",
       "  <tbody>\n",
       "    <tr>\n",
       "      <th>183</th>\n",
       "      <td>Geffense</td>\n",
       "      <td>Netherlands</td>\n",
       "      <td>0.00</td>\n",
       "      <td>0.000</td>\n",
       "      <td>0.0000</td>\n",
       "      <td>0.0000</td>\n",
       "      <td>0.0000</td>\n",
       "      <td>0.0000</td>\n",
       "    </tr>\n",
       "    <tr>\n",
       "      <th>363</th>\n",
       "      <td>Derwent</td>\n",
       "      <td>UK</td>\n",
       "      <td>0.01</td>\n",
       "      <td>0.000</td>\n",
       "      <td>0.0000</td>\n",
       "      <td>0.0000</td>\n",
       "      <td>0.0000</td>\n",
       "      <td>0.0000</td>\n",
       "    </tr>\n",
       "    <tr>\n",
       "      <th>287</th>\n",
       "      <td>Krankesjon</td>\n",
       "      <td>Sweden</td>\n",
       "      <td>0.01</td>\n",
       "      <td>0.046</td>\n",
       "      <td>0.0000</td>\n",
       "      <td>0.0000</td>\n",
       "      <td>0.0115</td>\n",
       "      <td>0.4887</td>\n",
       "    </tr>\n",
       "    <tr>\n",
       "      <th>217</th>\n",
       "      <td>Goreckie</td>\n",
       "      <td>Poland</td>\n",
       "      <td>0.02</td>\n",
       "      <td>0.032</td>\n",
       "      <td>0.3023</td>\n",
       "      <td>0.0000</td>\n",
       "      <td>0.2529</td>\n",
       "      <td>0.0000</td>\n",
       "    </tr>\n",
       "    <tr>\n",
       "      <th>155</th>\n",
       "      <td>Caldonazzo</td>\n",
       "      <td>Italy</td>\n",
       "      <td>0.02</td>\n",
       "      <td>0.000</td>\n",
       "      <td>0.0577</td>\n",
       "      <td>0.0000</td>\n",
       "      <td>0.0034</td>\n",
       "      <td>0.0000</td>\n",
       "    </tr>\n",
       "    <tr>\n",
       "      <th>...</th>\n",
       "      <td>...</td>\n",
       "      <td>...</td>\n",
       "      <td>...</td>\n",
       "      <td>...</td>\n",
       "      <td>...</td>\n",
       "      <td>...</td>\n",
       "      <td>...</td>\n",
       "      <td>...</td>\n",
       "    </tr>\n",
       "    <tr>\n",
       "      <th>187</th>\n",
       "      <td>Meerwijkplas</td>\n",
       "      <td>Netherlands</td>\n",
       "      <td>0.61</td>\n",
       "      <td>0.002</td>\n",
       "      <td>0.0000</td>\n",
       "      <td>0.0000</td>\n",
       "      <td>0.0028</td>\n",
       "      <td>0.0261</td>\n",
       "    </tr>\n",
       "    <tr>\n",
       "      <th>321</th>\n",
       "      <td>Eber</td>\n",
       "      <td>Turkey</td>\n",
       "      <td>0.64</td>\n",
       "      <td>0.002</td>\n",
       "      <td>0.0000</td>\n",
       "      <td>0.0361</td>\n",
       "      <td>0.0000</td>\n",
       "      <td>0.0125</td>\n",
       "    </tr>\n",
       "    <tr>\n",
       "      <th>112</th>\n",
       "      <td>Laguna Rio Viejo</td>\n",
       "      <td>Spain</td>\n",
       "      <td>0.82</td>\n",
       "      <td>0.000</td>\n",
       "      <td>0.0000</td>\n",
       "      <td>0.0000</td>\n",
       "      <td>0.0000</td>\n",
       "      <td>0.0000</td>\n",
       "    </tr>\n",
       "    <tr>\n",
       "      <th>185</th>\n",
       "      <td>Kinselmeer</td>\n",
       "      <td>Netherlands</td>\n",
       "      <td>0.87</td>\n",
       "      <td>1.370</td>\n",
       "      <td>9.0768</td>\n",
       "      <td>0.0000</td>\n",
       "      <td>2.0126</td>\n",
       "      <td>0.1096</td>\n",
       "    </tr>\n",
       "    <tr>\n",
       "      <th>349</th>\n",
       "      <td>Seyhan</td>\n",
       "      <td>Turkey</td>\n",
       "      <td>1.03</td>\n",
       "      <td>0.002</td>\n",
       "      <td>0.0000</td>\n",
       "      <td>0.0000</td>\n",
       "      <td>0.0000</td>\n",
       "      <td>0.0000</td>\n",
       "    </tr>\n",
       "  </tbody>\n",
       "</table>\n",
       "<p>289 rows × 8 columns</p>\n",
       "</div>"
      ],
      "text/plain": [
       "            Lake Name      Country  Concentration of total phosphorus (mgL)  \\\n",
       "183          Geffense  Netherlands                                     0.00   \n",
       "363           Derwent           UK                                     0.01   \n",
       "287        Krankesjon       Sweden                                     0.01   \n",
       "217          Goreckie       Poland                                     0.02   \n",
       "155        Caldonazzo        Italy                                     0.02   \n",
       "..                ...          ...                                      ...   \n",
       "187      Meerwijkplas  Netherlands                                     0.61   \n",
       "321              Eber       Turkey                                     0.64   \n",
       "112  Laguna Rio Viejo        Spain                                     0.82   \n",
       "185        Kinselmeer  Netherlands                                     0.87   \n",
       "349            Seyhan       Turkey                                     1.03   \n",
       "\n",
       "     Concentration of cyanobacterial hepatotoxin microcystin YR (ugL)  \\\n",
       "183                                              0.000                  \n",
       "363                                              0.000                  \n",
       "287                                              0.046                  \n",
       "217                                              0.032                  \n",
       "155                                              0.000                  \n",
       "..                                                 ...                  \n",
       "187                                              0.002                  \n",
       "321                                              0.002                  \n",
       "112                                              0.000                  \n",
       "185                                              1.370                  \n",
       "349                                              0.002                  \n",
       "\n",
       "     Concentration of cyanobacterial hepatotoxin microcystin dmRR (ugL)  \\\n",
       "183                                             0.0000                    \n",
       "363                                             0.0000                    \n",
       "287                                             0.0000                    \n",
       "217                                             0.3023                    \n",
       "155                                             0.0577                    \n",
       "..                                                 ...                    \n",
       "187                                             0.0000                    \n",
       "321                                             0.0000                    \n",
       "112                                             0.0000                    \n",
       "185                                             9.0768                    \n",
       "349                                             0.0000                    \n",
       "\n",
       "     Concentration of cyanobacterial hepatotoxin microcystin RR (ugL)  \\\n",
       "183                                             0.0000                  \n",
       "363                                             0.0000                  \n",
       "287                                             0.0000                  \n",
       "217                                             0.0000                  \n",
       "155                                             0.0000                  \n",
       "..                                                 ...                  \n",
       "187                                             0.0000                  \n",
       "321                                             0.0361                  \n",
       "112                                             0.0000                  \n",
       "185                                             0.0000                  \n",
       "349                                             0.0000                  \n",
       "\n",
       "     Concentration of cyanobacterial hepatotoxin microcystin dmLR (ugL)  \\\n",
       "183                                             0.0000                    \n",
       "363                                             0.0000                    \n",
       "287                                             0.0115                    \n",
       "217                                             0.2529                    \n",
       "155                                             0.0034                    \n",
       "..                                                 ...                    \n",
       "187                                             0.0028                    \n",
       "321                                             0.0000                    \n",
       "112                                             0.0000                    \n",
       "185                                             2.0126                    \n",
       "349                                             0.0000                    \n",
       "\n",
       "     Concentration of cyanobacterial hepatotoxin microcystin LR (ugL)  \n",
       "183                                             0.0000                 \n",
       "363                                             0.0000                 \n",
       "287                                             0.4887                 \n",
       "217                                             0.0000                 \n",
       "155                                             0.0000                 \n",
       "..                                                 ...                 \n",
       "187                                             0.0261                 \n",
       "321                                             0.0125                 \n",
       "112                                             0.0000                 \n",
       "185                                             0.1096                 \n",
       "349                                             0.0000                 \n",
       "\n",
       "[289 rows x 8 columns]"
      ]
     },
     "execution_count": 15,
     "metadata": {},
     "output_type": "execute_result"
    }
   ],
   "source": [
    "def load_and_process(pathname):\n",
    "\n",
    "    # Method Chain 1 (Load data, remove unneeded columns and remove rows with missing data)\n",
    "\n",
    "    ldr1 = (\n",
    "        pd.read_csv(\"../data/raw/EMLSdata_10Aug.csv\")\n",
    "        .drop(labels=['MeanDepth_m','Lake_ID','MC_LY_ugL','MC_LW_ugL','MC_LF_ugL','NOD_ugL','MaximumDepth_m', 'TN_mgL', 'NO3NO2_mgL', 'NH3_mgL', 'PO4_ugL','Date','LabName','Latitude','ThermoclineDepth_m','SamplingDepth_m','Longitude','Altitude_m','SurfaceTemperature_C','EpilimneticTemperature_C','CYN_ugL','ATX_ugL','Lutein_ugL','Echinenone_ugL','Chlorophyllc2_ugL','Peridinin_ugL','Alloxanthin_ugL','Diadinoxanthin_ugL','Fucoxanthin_ugL','Zeaxanthin_ugL','Chlorophyllb_ugL','Diatoxanthin_ugL','Chlorophylla_ugL','SecchiDepth_m','Violaxanthin_ugL'], axis=1)\n",
    "        .dropna(axis=0)\n",
    "    )\n",
    "    \n",
    "    # Method Chain 2 (Drop unneeded columns, rename columns, drop outlier row, sort with ascending Mean Depth (m)\n",
    "    \n",
    "    ldr2 = (\n",
    "        ldr1\n",
    "        .rename(columns=\n",
    "            {\"LakeName\": \"Lake Name\", \n",
    "            \"TP_mgL\": \"Concentration of total phosphorus (mgL)\",\n",
    "            \"MC_YR_ugL\": \"Concentration of cyanobacterial hepatotoxin microcystin YR (ugL)\", \n",
    "            \"MC_dmRR_ugL\": \"Concentration of cyanobacterial hepatotoxin microcystin dmRR (ugL)\", \n",
    "            \"MC_RR_ugL\": \"Concentration of cyanobacterial hepatotoxin microcystin RR (ugL)\", \n",
    "            \"MC_dmLR_ugL\": \"Concentration of cyanobacterial hepatotoxin microcystin dmLR (ugL)\", \n",
    "            \"MC_LR_ugL\": \"Concentration of cyanobacterial hepatotoxin microcystin LR (ugL)\", \n",
    "            \"MC_LW_ugL\": \"Concentration of cyanobacterial hepatotoxin microcystin LW (ugL)\", \n",
    "            \"MC_LF_ugL\": \"Concentration of cyanobacterial hepatotoxin microcystin LF (ugL)\", \n",
    "            \"NOD_ugL\": \"Concentration of cyanobacterial hepatotoxin nodularin (ugL)\"})\n",
    "        .sort_values(by=['Concentration of total phosphorus (mgL)'], ascending=True)\n",
    "    )\n",
    "    \n",
    "    return ldr2\n",
    "\n",
    "load_and_process('../data/raw/EMLSdata_10Aug.csv')\n"
   ]
  },
  {
   "cell_type": "code",
   "execution_count": 16,
   "metadata": {},
   "outputs": [],
   "source": [
    "ldr.to_csv('kkr_processed.csv')"
   ]
  },
  {
   "cell_type": "code",
   "execution_count": 17,
   "metadata": {},
   "outputs": [],
   "source": [
    "import project_functions3\n",
    "ldr = project_functions3.load_and_process('../data/raw/EMLSdata_10Aug.csv')"
   ]
  },
  {
   "cell_type": "code",
   "execution_count": 18,
   "metadata": {},
   "outputs": [
    {
     "data": {
      "image/png": "[encoded data removed]",
      "text/plain": [
       "<Figure size 432x288 with 1 Axes>"
      ]
     },
     "metadata": {
      "needs_background": "light"
     },
     "output_type": "display_data"
    }
   ],
   "source": [
    "Fig1 = sns.countplot(y='Country', data=ldr)\n",
    "Fig1.set_title(\"Number of Lakes Studied from Each Country\")\n",
    "Fig1.set_xlabel(\"Count\")\n",
    "plt.show()"
   ]
  },
  {
   "cell_type": "markdown",
   "metadata": {},
   "source": [
    "Figure 1. A count plot of how many lakes from each country were in the dataset."
   ]
  },
  {
   "cell_type": "markdown",
   "metadata": {},
   "source": [
    "Figure 1 Analysis: \n",
    "This countplot shows that the data is skewed towards lakes from Poland and Germany. It is possible that this may effect the analysis of data, as there could be factors from those country, such as pollution, that may effect the lake cyanobacterial levels."
   ]
  },
  {
   "cell_type": "code",
   "execution_count": 19,
   "metadata": {},
   "outputs": [
    {
     "data": {
      "text/plain": [
       "<AxesSubplot:xlabel='Concentration of total phosphorus (mgL)', ylabel='Concentration of cyanobacterial hepatotoxin microcystin YR (ugL)'>"
      ]
     },
     "execution_count": 19,
     "metadata": {},
     "output_type": "execute_result"
    },
    {
     "data": {
      "image/png": "[encoded data removed]",
      "text/plain": [
       "<Figure size 432x288 with 1 Axes>"
      ]
     },
     "metadata": {
      "needs_background": "light"
     },
     "output_type": "display_data"
    }
   ],
   "source": [
    "sns.regplot(x='Concentration of total phosphorus (mgL)', y='Concentration of cyanobacterial hepatotoxin microcystin YR (ugL)', data=ldr)"
   ]
  },
  {
   "cell_type": "markdown",
   "metadata": {},
   "source": [
    "Figure 2. A scatterplot of the concentration of cyanobacterial hepatotoxin microcystin YR in ugL versus the concentration of total phosphorous in mgL. "
   ]
  },
  {
   "cell_type": "markdown",
   "metadata": {},
   "source": [
    "Figure 2 Analysis: \n",
    "This scatterplot shows that there is very slight positive correlation between the concentration of cyanobacterial hepatotoxin microcystin YR and the concentration of total phosphorous. "
   ]
  },
  {
   "cell_type": "code",
   "execution_count": 20,
   "metadata": {},
   "outputs": [
    {
     "data": {
      "text/plain": [
       "<AxesSubplot:xlabel='Concentration of total phosphorus (mgL)', ylabel='Concentration of cyanobacterial hepatotoxin microcystin dmRR (ugL)'>"
      ]
     },
     "execution_count": 20,
     "metadata": {},
     "output_type": "execute_result"
    },
    {
     "data": {
      "image/png": "[encoded data removed]",
      "text/plain": [
       "<Figure size 432x288 with 1 Axes>"
      ]
     },
     "metadata": {
      "needs_background": "light"
     },
     "output_type": "display_data"
    }
   ],
   "source": [
    "sns.regplot(x='Concentration of total phosphorus (mgL)', y='Concentration of cyanobacterial hepatotoxin microcystin dmRR (ugL)', data=ldr)"
   ]
  },
  {
   "cell_type": "markdown",
   "metadata": {},
   "source": [
    "Figure 3. A scatterplot of the concentration of cyanobacterial hepatotoxin microcystin dmRR in ugL versus the concentration of total phosphorous in mgL. "
   ]
  },
  {
   "cell_type": "markdown",
   "metadata": {},
   "source": [
    "Figure 3 Analysis: \n",
    "This scatterplot shows that there is small positive correlation between the concentration of cyanobacterial hepatotoxin microcystin dmRR and the concentration of total phosphorous. "
   ]
  },
  {
   "cell_type": "code",
   "execution_count": 21,
   "metadata": {},
   "outputs": [
    {
     "data": {
      "text/plain": [
       "<AxesSubplot:xlabel='Concentration of cyanobacterial hepatotoxin microcystin dmLR (ugL)', ylabel='Concentration of total phosphorus (mgL)'>"
      ]
     },
     "execution_count": 21,
     "metadata": {},
     "output_type": "execute_result"
    },
    {
     "data": {
      "image/png": "[encoded data removed]",
      "text/plain": [
       "<Figure size 432x288 with 1 Axes>"
      ]
     },
     "metadata": {
      "needs_background": "light"
     },
     "output_type": "display_data"
    }
   ],
   "source": [
    "sns.regplot(x='Concentration of cyanobacterial hepatotoxin microcystin dmLR (ugL)', y='Concentration of total phosphorus (mgL)', data=ldr)"
   ]
  },
  {
   "cell_type": "markdown",
   "metadata": {},
   "source": [
    "Figure 4. A scatterplot of the concentration of cyanobacterial hepatotoxin microcystin dmLR in ugL versus the concentration of total phosphorous in mgL. "
   ]
  },
  {
   "cell_type": "markdown",
   "metadata": {},
   "source": [
    "Figure 4 Analysis: \n",
    "This scatterplot shows that there is small positive correlation between the concentration of cyanobacterial hepatotoxin microcystin dmLR and the concentration of total phosphorous. "
   ]
  },
  {
   "cell_type": "code",
   "execution_count": 22,
   "metadata": {},
   "outputs": [
    {
     "data": {
      "text/plain": [
       "<AxesSubplot:xlabel='Concentration of total phosphorus (mgL)', ylabel='Concentration of cyanobacterial hepatotoxin microcystin RR (ugL)'>"
      ]
     },
     "execution_count": 22,
     "metadata": {},
     "output_type": "execute_result"
    },
    {
     "data": {
      "image/png": "[encoded data removed]",
      "text/plain": [
       "<Figure size 432x288 with 1 Axes>"
      ]
     },
     "metadata": {
      "needs_background": "light"
     },
     "output_type": "display_data"
    }
   ],
   "source": [
    "sns.regplot(x='Concentration of total phosphorus (mgL)', y='Concentration of cyanobacterial hepatotoxin microcystin RR (ugL)', data=ldr)"
   ]
  },
  {
   "cell_type": "markdown",
   "metadata": {},
   "source": [
    "Figure 5. A scatterplot of the concentration of cyanobacterial hepatotoxin microcystin RR in ugL versus the concentration of total phosphorous in mgL. "
   ]
  },
  {
   "cell_type": "markdown",
   "metadata": {},
   "source": [
    "Figure 5 Analysis: \n",
    "This scatterplot shows that there is no correlation between the concentration of cyanobacterial hepatotoxin microcystin RR and the concentration of total phosphorous. "
   ]
  },
  {
   "cell_type": "code",
   "execution_count": 23,
   "metadata": {},
   "outputs": [
    {
     "data": {
      "text/plain": [
       "<AxesSubplot:xlabel='Concentration of total phosphorus (mgL)', ylabel='Concentration of cyanobacterial hepatotoxin microcystin LR (ugL)'>"
      ]
     },
     "execution_count": 23,
     "metadata": {},
     "output_type": "execute_result"
    },
    {
     "data": {
      "image/png": "[encoded data removed]",
      "text/plain": [
       "<Figure size 432x288 with 1 Axes>"
      ]
     },
     "metadata": {
      "needs_background": "light"
     },
     "output_type": "display_data"
    }
   ],
   "source": [
    "sns.regplot(x='Concentration of total phosphorus (mgL)', y='Concentration of cyanobacterial hepatotoxin microcystin LR (ugL)', data=ldr)"
   ]
  },
  {
   "cell_type": "markdown",
   "metadata": {},
   "source": [
    "Figure 6. A scatterplot of the Concentration of cyanobacterial hepatotoxin microcystin LR in ugL versus the concentration of total phosphorous in mgL. "
   ]
  },
  {
   "cell_type": "markdown",
   "metadata": {},
   "source": [
    "Figure 6 Analysis: \n",
    "This scatterplot shows that there is almost no correlation between the concentration of cyanobacterial hepatotoxin microcystin LR and the concentration of total phosphorous. There is a slight negative correlation, but it is barely visible."
   ]
  },
  {
   "cell_type": "markdown",
   "metadata": {},
   "source": [
    "### Conclusions\n",
    "There does not seem to be a consistent correlation between cyanobacterial hepatotoxin levels and phosphorous concentration. Some hepatotoxins have a slight positive correlation, one has no correlation and one has almost no correlation (but does show a slight negative correlation). "
   ]
  }
 ],
 "metadata": {
  "kernelspec": {
   "display_name": "Python 3 (ipykernel)",
   "language": "python",
   "name": "python3"
  },
  "language_info": {
   "codemirror_mode": {
    "name": "ipython",
    "version": 3
   },
   "file_extension": ".py",
   "mimetype": "text/x-python",
   "name": "python",
   "nbconvert_exporter": "python",
   "pygments_lexer": "ipython3",
   "version": "3.9.5"
  },
  "toc-autonumbering": false,
  "toc-showtags": false
 },
 "nbformat": 4,
 "nbformat_minor": 4
}
